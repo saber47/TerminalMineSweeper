{
 "cells": [
  {
   "cell_type": "code",
   "execution_count": 1,
   "metadata": {
    "collapsed": false
   },
   "outputs": [],
   "source": [
    "import pandas as pd\n",
    "import numpy as np\n",
    "from sklearn.svm import SVC\n",
    "from sklearn.decomposition import PCA\n",
    "from sklearn.metrics import roc_auc_score"
   ]
  },
  {
   "cell_type": "code",
   "execution_count": 2,
   "metadata": {
    "collapsed": false
   },
   "outputs": [],
   "source": [
    "col = ('signal, lepton pT, lepton eta, lepton phi, missing energy magnitude, '+\n",
    "        'missing energy phi, jet 1 pt, jet 1 eta, jet 1 phi, jet 1 b-tag, '+\n",
    "        'jet 2 pt, jet 2 eta, jet 2 phi, jet 2 b-tag, jet 3 pt, jet 3 eta, '+\n",
    "        'jet 3 phi, jet 3 b-tag, jet 4 pt, jet 4 eta, jet 4 phi, jet 4 b-tag, '+\n",
    "        'm_jj, m_jjj, m_lv, m_jlv, m_bb, m_wbb, m_wwbb').split(', ')"
   ]
  },
  {
   "cell_type": "code",
   "execution_count": 3,
   "metadata": {
    "collapsed": true
   },
   "outputs": [],
   "source": [
    "csv_file = './HIGGS_reduced.csv'"
   ]
  },
  {
   "cell_type": "code",
   "execution_count": 4,
   "metadata": {
    "collapsed": true
   },
   "outputs": [],
   "source": [
    "df = pd.read_csv(csv_file,header=None,dtype='float',names=col)"
   ]
  },
  {
   "cell_type": "markdown",
   "metadata": {},
   "source": [
    "Last two 10000 samples for test and valid\n",
    "\n",
    "using default SVM setting"
   ]
  },
  {
   "cell_type": "code",
   "execution_count": 5,
   "metadata": {
    "collapsed": false,
    "scrolled": false
   },
   "outputs": [],
   "source": [
    "tsI = 10000\n",
    "vlI = 10000\n",
    "tr_df = df[:-(tsI+vlI)]\n",
    "vl_df = df[-(tsI+vlI):-tsI]\n",
    "ts_df = df[-tsI:]"
   ]
  },
  {
   "cell_type": "code",
   "execution_count": 7,
   "metadata": {
    "collapsed": false
   },
   "outputs": [],
   "source": [
    "feat = col[1:]\n",
    "label = 'signal'"
   ]
  },
  {
   "cell_type": "code",
   "execution_count": 15,
   "metadata": {
    "collapsed": false
   },
   "outputs": [
    {
     "data": {
      "text/plain": [
       "SVC(C=1.0, cache_size=200, class_weight=None, coef0=0.0,\n",
       "  decision_function_shape=None, degree=3, gamma='auto', kernel='rbf',\n",
       "  max_iter=-1, probability=False, random_state=None, shrinking=True,\n",
       "  tol=0.001, verbose=False)"
      ]
     },
     "execution_count": 15,
     "metadata": {},
     "output_type": "execute_result"
    }
   ],
   "source": [
    "svm = SVC()\n",
    "svm.fit(tr_df[feat],tr_df[label])"
   ]
  },
  {
   "cell_type": "code",
   "execution_count": 24,
   "metadata": {
    "collapsed": false
   },
   "outputs": [],
   "source": [
    "y = svm.predict(ts_df[feat])"
   ]
  },
  {
   "cell_type": "code",
   "execution_count": 144,
   "metadata": {
    "collapsed": false
   },
   "outputs": [
    {
     "data": {
      "text/plain": [
       "(0.33, 0.67000000000000004, 0.66436096326023386)"
      ]
     },
     "execution_count": 144,
     "metadata": {},
     "output_type": "execute_result"
    }
   ],
   "source": [
    "yy = ts_df[label]\n",
    "mse = ((yy-y)*(yy-y)).sum()/len(y)\n",
    "acc = 1.0*(yy==y).sum()/len(y)\n",
    "mse,acc,roc_auc_score(yy,y)"
   ]
  },
  {
   "cell_type": "code",
   "execution_count": 43,
   "metadata": {
    "collapsed": false
   },
   "outputs": [
    {
     "name": "stdout",
     "output_type": "stream",
     "text": [
      "[LibSVM]"
     ]
    },
    {
     "data": {
      "text/plain": [
       "SVC(C=1.0, cache_size=200, class_weight=None, coef0=0.0,\n",
       "  decision_function_shape=None, degree=3, gamma='auto', kernel='rbf',\n",
       "  max_iter=-1, probability=False, random_state=None, shrinking=True,\n",
       "  tol=0.001, verbose=True)"
      ]
     },
     "execution_count": 43,
     "metadata": {},
     "output_type": "execute_result"
    }
   ],
   "source": [
    "feat7 = feat[-7:]\n",
    "svm7 = SVC()\n",
    "svm7.fit(tr_df[feat7],tr_df[label])"
   ]
  },
  {
   "cell_type": "code",
   "execution_count": 143,
   "metadata": {
    "collapsed": false
   },
   "outputs": [
    {
     "data": {
      "text/plain": [
       "(0.3424, 0.65759999999999996, 0.64916334804567244)"
      ]
     },
     "execution_count": 143,
     "metadata": {},
     "output_type": "execute_result"
    }
   ],
   "source": [
    "y7 = svm7.predict(ts_df[feat7])\n",
    "mse = ((yy-y7)*(yy-y7)).sum()/len(y7)\n",
    "acc = 1.0*(yy==y7).sum()/len(y7)\n",
    "mse,acc,roc_auc_score(yy,y7)"
   ]
  },
  {
   "cell_type": "code",
   "execution_count": 142,
   "metadata": {
    "collapsed": false
   },
   "outputs": [
    {
     "data": {
      "text/plain": [
       "(0.3546, 0.64539999999999997, 0.63829117336681473)"
      ]
     },
     "execution_count": 142,
     "metadata": {},
     "output_type": "execute_result"
    }
   ],
   "source": [
    "feat25 = feat[1:26]\n",
    "svm25 = SVC()\n",
    "svm25.fit(tr_df[feat25],tr_df[label])\n",
    "y25 = svm25.predict(ts_df[feat25])\n",
    "mse = ((yy-y25)*(yy-y25)).sum()/len(y25)\n",
    "acc = 1.0*(yy==y25).sum()/len(y25)\n",
    "mse,acc,roc_auc_score(yy,y25)"
   ]
  },
  {
   "cell_type": "code",
   "execution_count": 52,
   "metadata": {
    "collapsed": true
   },
   "outputs": [],
   "source": [
    "pca = PCA(n_components=10)\n",
    "Xpca = pca.fit_transform(tr_df[feat])"
   ]
  },
  {
   "cell_type": "code",
   "execution_count": 141,
   "metadata": {
    "collapsed": false
   },
   "outputs": [
    {
     "data": {
      "text/plain": [
       "(0.4244, 0.5756, 0.56666897750527001)"
      ]
     },
     "execution_count": 141,
     "metadata": {},
     "output_type": "execute_result"
    }
   ],
   "source": [
    "svmpca = SVC()\n",
    "svmpca.fit(Xpca,tr_df[label])\n",
    "yp = svmpca.predict(pca.transform(ts_df[feat]))\n",
    "mse = ((yy-yp)*(yy-yp)).sum()/len(yp)\n",
    "acc = 1.0*(yy==yp).sum()/len(yp)\n",
    "mse,acc,roc_auc_score(yy,yp)"
   ]
  },
  {
   "cell_type": "code",
   "execution_count": 113,
   "metadata": {
    "collapsed": false
   },
   "outputs": [],
   "source": [
    "corabs = df.corr().abs()[['signal']]"
   ]
  },
  {
   "cell_type": "code",
   "execution_count": 115,
   "metadata": {
    "collapsed": false,
    "scrolled": false
   },
   "outputs": [
    {
     "data": {
      "text/html": [
       "<div>\n",
       "<table border=\"1\" class=\"dataframe\">\n",
       "  <thead>\n",
       "    <tr style=\"text-align: right;\">\n",
       "      <th></th>\n",
       "      <th>signal</th>\n",
       "    </tr>\n",
       "  </thead>\n",
       "  <tbody>\n",
       "    <tr>\n",
       "      <th>signal</th>\n",
       "      <td>1.000000</td>\n",
       "    </tr>\n",
       "    <tr>\n",
       "      <th>m_bb</th>\n",
       "      <td>0.149082</td>\n",
       "    </tr>\n",
       "    <tr>\n",
       "      <th>m_wwbb</th>\n",
       "      <td>0.121644</td>\n",
       "    </tr>\n",
       "    <tr>\n",
       "      <th>missing energy magnitude</th>\n",
       "      <td>0.102268</td>\n",
       "    </tr>\n",
       "    <tr>\n",
       "      <th>m_wbb</th>\n",
       "      <td>0.062888</td>\n",
       "    </tr>\n",
       "    <tr>\n",
       "      <th>jet 1 pt</th>\n",
       "      <td>0.059355</td>\n",
       "    </tr>\n",
       "    <tr>\n",
       "      <th>lepton pT</th>\n",
       "      <td>0.048636</td>\n",
       "    </tr>\n",
       "    <tr>\n",
       "      <th>jet 2 b-tag</th>\n",
       "      <td>0.044518</td>\n",
       "    </tr>\n",
       "    <tr>\n",
       "      <th>jet 4 pt</th>\n",
       "      <td>0.036307</td>\n",
       "    </tr>\n",
       "    <tr>\n",
       "      <th>jet 3 b-tag</th>\n",
       "      <td>0.031054</td>\n",
       "    </tr>\n",
       "    <tr>\n",
       "      <th>m_jlv</th>\n",
       "      <td>0.028615</td>\n",
       "    </tr>\n",
       "    <tr>\n",
       "      <th>m_jjj</th>\n",
       "      <td>0.027416</td>\n",
       "    </tr>\n",
       "    <tr>\n",
       "      <th>jet 2 pt</th>\n",
       "      <td>0.021854</td>\n",
       "    </tr>\n",
       "    <tr>\n",
       "      <th>jet 4 b-tag</th>\n",
       "      <td>0.015892</td>\n",
       "    </tr>\n",
       "    <tr>\n",
       "      <th>m_jj</th>\n",
       "      <td>0.012168</td>\n",
       "    </tr>\n",
       "    <tr>\n",
       "      <th>jet 3 pt</th>\n",
       "      <td>0.011033</td>\n",
       "    </tr>\n",
       "    <tr>\n",
       "      <th>m_lv</th>\n",
       "      <td>0.008682</td>\n",
       "    </tr>\n",
       "  </tbody>\n",
       "</table>\n",
       "</div>"
      ],
      "text/plain": [
       "                            signal\n",
       "signal                    1.000000\n",
       "m_bb                      0.149082\n",
       "m_wwbb                    0.121644\n",
       "missing energy magnitude  0.102268\n",
       "m_wbb                     0.062888\n",
       "jet 1 pt                  0.059355\n",
       "lepton pT                 0.048636\n",
       "jet 2 b-tag               0.044518\n",
       "jet 4 pt                  0.036307\n",
       "jet 3 b-tag               0.031054\n",
       "m_jlv                     0.028615\n",
       "m_jjj                     0.027416\n",
       "jet 2 pt                  0.021854\n",
       "jet 4 b-tag               0.015892\n",
       "m_jj                      0.012168\n",
       "jet 3 pt                  0.011033\n",
       "m_lv                      0.008682"
      ]
     },
     "execution_count": 115,
     "metadata": {},
     "output_type": "execute_result"
    }
   ],
   "source": [
    "cortop = corabs.sort_values('signal',ascending=False)[:17]\n",
    "cortop"
   ]
  },
  {
   "cell_type": "code",
   "execution_count": 107,
   "metadata": {
    "collapsed": false
   },
   "outputs": [
    {
     "data": {
      "text/plain": [
       "['m_jj', 'm_jjj', 'm_lv', 'm_jlv', 'm_bb', 'm_wbb', 'm_wwbb']"
      ]
     },
     "execution_count": 107,
     "metadata": {},
     "output_type": "execute_result"
    }
   ],
   "source": [
    "'m_jj, m_jjj, m_lv, m_jlv, m_bb, m_wbb, m_wwbb'.split(', ')"
   ]
  },
  {
   "cell_type": "code",
   "execution_count": 121,
   "metadata": {
    "collapsed": false
   },
   "outputs": [
    {
     "data": {
      "text/plain": [
       "Index([u'm_bb', u'm_wwbb', u'missing energy magnitude', u'm_wbb', u'jet 1 pt'], dtype='object')"
      ]
     },
     "execution_count": 121,
     "metadata": {},
     "output_type": "execute_result"
    }
   ],
   "source": [
    "featcor = cortop.index[1:6]\n",
    "featcor"
   ]
  },
  {
   "cell_type": "code",
   "execution_count": 140,
   "metadata": {
    "collapsed": false,
    "scrolled": true
   },
   "outputs": [
    {
     "data": {
      "text/plain": [
       "(0.3332, 0.66679999999999995, 0.66231908059434763)"
      ]
     },
     "execution_count": 140,
     "metadata": {},
     "output_type": "execute_result"
    }
   ],
   "source": [
    "svmcor = SVC()\n",
    "svmcor.fit(tr_df[featcor],tr_df[label])\n",
    "ycor = svmcor.predict(ts_df[featcor])\n",
    "mse = ((yy-ycor)*(yy-ycor)).sum()/len(ycor)\n",
    "acc = 1.0*(yy==ycor).sum()/len(ycor)\n",
    "mse,acc,roc_auc_score(yy,ycor)"
   ]
  },
  {
   "cell_type": "code",
   "execution_count": 145,
   "metadata": {
    "collapsed": false,
    "scrolled": true
   },
   "outputs": [
    {
     "data": {
      "text/plain": [
       "(0.3332, 0.66679999999999995, 0.66231908059434763)"
      ]
     },
     "execution_count": 145,
     "metadata": {},
     "output_type": "execute_result"
    }
   ],
   "source": [
    "pcacor = PCA()\n",
    "svmpc = SVC()\n",
    "Xpc = pcacor.fit_transform(tr_df[featcor])\n",
    "svmpc.fit(Xpc,tr_df[label])\n",
    "ypc = svmpc.predict(pcacor.transform(ts_df[featcor]))\n",
    "mse = ((yy-ypc)*(yy-ypc)).sum()/len(ypc)\n",
    "acc = 1.0*(yy==ypc).sum()/len(ypc)\n",
    "mse,acc,roc_auc_score(yy,ypc)"
   ]
  },
  {
   "cell_type": "code",
   "execution_count": 154,
   "metadata": {
    "collapsed": false
   },
   "outputs": [],
   "source": [
    "pcmax = Xpc.max(axis=0)\n",
    "pcmin = Xpc.min(axis=0)\n",
    "Xnorm = 2.0*(Xpc-pcmin)/(pcmax-pcmin)-1"
   ]
  },
  {
   "cell_type": "code",
   "execution_count": 175,
   "metadata": {
    "collapsed": false
   },
   "outputs": [
    {
     "data": {
      "text/plain": [
       "(0.3613, 0.63870000000000005, 0.62841217786267978)"
      ]
     },
     "execution_count": 175,
     "metadata": {},
     "output_type": "execute_result"
    }
   ],
   "source": [
    "svmnorm = SVC()\n",
    "svmnorm.fit(Xnorm,tr_df[label])\n",
    "Xtest = pcacor.transform(ts_df[featcor])\n",
    "Xtest = 2.0*(Xtest-pcmin)/(pcmax-pcmin)-1\n",
    "ynorm = svmnorm.predict(Xtest)\n",
    "mse = ((yy-ynorm)*(yy-ynorm)).sum()/len(ynorm)\n",
    "acc = 1.0*(yy==ynorm).sum()/len(ynorm)\n",
    "mse,acc,roc_auc_score(yy,ynorm)"
   ]
  },
  {
   "cell_type": "code",
   "execution_count": 176,
   "metadata": {
    "collapsed": false
   },
   "outputs": [
    {
     "data": {
      "text/plain": [
       "(0.3598, 0.64019999999999999, 0.63050043777553544)"
      ]
     },
     "execution_count": 176,
     "metadata": {},
     "output_type": "execute_result"
    }
   ],
   "source": [
    "X = tr_featcoratcor].as_matrix()\n",
    "pcmax = X.max(axis=0)\n",
    "pcmin = X.min(axis=0)\n",
    "X = 2.0*(X-pcmin)/(pcmax-pcmin)-1\n",
    "svmn = SVC()\n",
    "svmn.fit(X,tr_dlabelbel])\n",
    "X = ts_df[featcor].as_matrix()\n",
    "X = 2.0*(X-pcmin)/(pcmax-pcmin)-1\n",
    "yn = svmn.predict(X)\n",
    "mse = ((yy-yn)*(yy-yn)).sum()/len(yn)\n",
    "acc = 1.0*(yy==yn).sum()/len(yn)\n",
    "mse,acc,roc_auc_score(yy,yn)"
   ]
  },
  {
   "cell_type": "code",
   "execution_count": 178,
   "metadata": {
    "collapsed": false
   },
   "outputs": [
    {
     "data": {
      "text/plain": [
       "(0.3167, 0.68330000000000002, 0.68339120058335834)"
      ]
     },
     "execution_count": 178,
     "metadata": {},
     "output_type": "execute_result"
    }
   ],
   "source": [
    "from sklearn.ensemble import GradientBoostingClassifier as GBC\n",
    "gbc = GBC()\n",
    "gbc.fit(tr_df[featcor],tr_df[label])\n",
    "ygbc = gbc.predict(ts_df[featcor])\n",
    "mse = ((yy-ygbc)*(yy-ygbc)).sum()/len(ygbc)\n",
    "acc = 1.0*(yy==ygbc).sum()/len(ygbc)\n",
    "mse,acc,roc_auc_score(yy,ygbc)"
   ]
  },
  {
   "cell_type": "code",
   "execution_count": 179,
   "metadata": {
    "collapsed": false
   },
   "outputs": [
    {
     "data": {
      "text/plain": [
       "(0.2863, 0.7137, 0.7129647995090751)"
      ]
     },
     "execution_count": 179,
     "metadata": {},
     "output_type": "execute_result"
    }
   ],
   "source": [
    "gbc = GBC()\n",
    "gbc.fit(tr_df[feat],tr_df[label])\n",
    "ygbc = gbc.predict(ts_df[feat])\n",
    "mse = ((yy-ygbc)*(yy-ygbc)).sum()/len(ygbc)\n",
    "acc = 1.0*(yy==ygbc).sum()/len(ygbc)\n",
    "mse,acc,roc_auc_score(yy,ygbc)"
   ]
  },
  {
   "cell_type": "code",
   "execution_count": 180,
   "metadata": {
    "collapsed": false
   },
   "outputs": [
    {
     "data": {
      "text/plain": [
       "(0.3069, 0.69310000000000005, 0.69171439190282147)"
      ]
     },
     "execution_count": 180,
     "metadata": {},
     "output_type": "execute_result"
    }
   ],
   "source": [
    "gbc = GBC()\n",
    "gbc.fit(tr_df[feat7],tr_df[label])\n",
    "ygbc = gbc.predict(ts_df[feat7])\n",
    "mse = ((yy-ygbc)*(yy-ygbc)).sum()/len(ygbc)\n",
    "acc = 1.0*(yy==ygbc).sum()/len(ygbc)\n",
    "mse,acc,roc_auc_score(yy,ygbc)"
   ]
  },
  {
   "cell_type": "code",
   "execution_count": 181,
   "metadata": {
    "collapsed": false
   },
   "outputs": [
    {
     "data": {
      "text/plain": [
       "(0.3197, 0.68030000000000002, 0.67811253912378133)"
      ]
     },
     "execution_count": 181,
     "metadata": {},
     "output_type": "execute_result"
    }
   ],
   "source": [
    "gbc = GBC()\n",
    "gbc.fit(tr_df[feat25],tr_df[label])\n",
    "ygbc = gbc.predict(ts_df[feat25])\n",
    "mse = ((yy-ygbc)*(yy-ygbc)).sum()/len(ygbc)\n",
    "acc = 1.0*(yy==ygbc).sum()/len(ygbc)\n",
    "mse,acc,roc_auc_score(yy,ygbc)"
   ]
  },
  {
   "cell_type": "code",
   "execution_count": 192,
   "metadata": {
    "collapsed": false
   },
   "outputs": [
    {
     "data": {
      "text/plain": [
       "(0.2915, 0.70850000000000002, 0.70725831195807631)"
      ]
     },
     "execution_count": 192,
     "metadata": {},
     "output_type": "execute_result"
    }
   ],
   "source": [
    "gbc = GBC()\n",
    "gbc.fit(df[:20000][feat],df[:20000][label])\n",
    "ygbc = gbc.predict(ts_df[feat])\n",
    "mse = ((yy-ygbc)*(yy-ygbc)).sum()/len(ygbc)\n",
    "acc = 1.0*(yy==ygbc).sum()/len(ygbc)\n",
    "mse,acc,roc_auc_score(yy,ygbc)"
   ]
  },
  {
   "cell_type": "code",
   "execution_count": 193,
   "metadata": {
    "collapsed": false
   },
   "outputs": [
    {
     "data": {
      "text/plain": [
       "(0.291, 0.70899999999999996, 0.70816900703265218)"
      ]
     },
     "execution_count": 193,
     "metadata": {},
     "output_type": "execute_result"
    }
   ],
   "source": [
    "gbc = GBC()\n",
    "gbc.fit(df[:30000][feat],df[:30000][label])\n",
    "ygbc = gbc.predict(ts_df[feat])\n",
    "mse = ((yy-ygbc)*(yy-ygbc)).sum()/len(ygbc)\n",
    "acc = 1.0*(yy==ygbc).sum()/len(ygbc)\n",
    "mse,acc,roc_auc_score(yy,ygbc)"
   ]
  },
  {
   "cell_type": "code",
   "execution_count": 210,
   "metadata": {
    "collapsed": false
   },
   "outputs": [
    {
     "data": {
      "text/plain": [
       "(0.3067, 0.69330000000000003, 0.69196954699860569)"
      ]
     },
     "execution_count": 210,
     "metadata": {},
     "output_type": "execute_result"
    }
   ],
   "source": [
    "from sklearn.ensemble import GradientBoostingRegressor as GBR\n",
    "gbr = GBR()\n",
    "gbr.fit(tr_df[feat7],tr_df[label])\n",
    "ygbr = gbr.predict(ts_df[feat7]).round()\n",
    "mse = ((yy-ygbr)*(yy-ygbr)).sum()/len(ygbr)\n",
    "acc = 1.0*(yy==ygbr).sum()/len(ygbr)\n",
    "mse,acc,roc_auc_score(yy,ygbr)"
   ]
  },
  {
   "cell_type": "code",
   "execution_count": 211,
   "metadata": {
    "collapsed": false
   },
   "outputs": [
    {
     "data": {
      "text/plain": [
       "(0.2869, 0.71309999999999996, 0.7122866325689593)"
      ]
     },
     "execution_count": 211,
     "metadata": {},
     "output_type": "execute_result"
    }
   ],
   "source": [
    "gbr = GBR()\n",
    "gbr.fit(tr_df[feat],tr_df[label])\n",
    "ygbr = gbr.predict(ts_df[feat]).round()\n",
    "mse = ((yy-ygbr)*(yy-ygbr)).sum()/len(ygbr)\n",
    "acc = 1.0*(yy==ygbr).sum()/len(ygbr)\n",
    "mse,acc,roc_auc_score(yy,ygbr)"
   ]
  },
  {
   "cell_type": "code",
   "execution_count": 212,
   "metadata": {
    "collapsed": false
   },
   "outputs": [
    {
     "data": {
      "text/plain": [
       "(0.3206, 0.6794, 0.67724806082127209)"
      ]
     },
     "execution_count": 212,
     "metadata": {},
     "output_type": "execute_result"
    }
   ],
   "source": [
    "gbr = GBR()\n",
    "gbr.fit(tr_df[feat25],tr_df[label])\n",
    "ygbr = gbr.predict(ts_df[feat25]).round()\n",
    "mse = ((yy-yg\n",
    "        br)*(yy-ygbr)).sum()/len(ygbr)\n",
    "acc = 1.0*(yy==ygbr).sum()/len(ygbr)\n",
    "mse,acc,roc_auc_score(yy,ygbr)"
   ]
  },
  {
   "cell_type": "code",
   "execution_count": 215,
   "metadata": {
    "collapsed": true
   },
   "outputs": [],
   "source": [
    "from sklearn.linear_model.logistic import LogisticRegression as LR"
   ]
  },
  {
   "cell_type": "code",
   "execution_count": 220,
   "metadata": {
    "collapsed": false
   },
   "outputs": [
    {
     "data": {
      "text/plain": [
       "(0.62660000000000005, 0.61727473816914824)"
      ]
     },
     "execution_count": 220,
     "metadata": {},
     "output_type": "execute_result"
    }
   ],
   "source": [
    "lr = LR()\n",
    "lr.fit(tr_df[feat7],tr_df[label])\n",
    "y = lr.predict(ts_df[feat7])\n",
    "acc = 1.0*(yy==y).sum()/len(y)\n",
    "acc,roc_auc_score(yy,y)"
   ]
  },
  {
   "cell_type": "code",
   "execution_count": 223,
   "metadata": {
    "collapsed": false
   },
   "outputs": [
    {
     "data": {
      "text/plain": [
       "(0.64480000000000004, 0.63948992089229173)"
      ]
     },
     "execution_count": 223,
     "metadata": {},
     "output_type": "execute_result"
    }
   ],
   "source": [
    "lr = LR()\n",
    "lr.fit(tr_df[feat],tr_df[label])\n",
    "y = lr.predict(ts_df[feat])\n",
    "acc = 1.0*(yy==y).sum()/len(y)\n",
    "acc,roc_auc_score(yy,y)"
   ]
  },
  {
   "cell_type": "code",
   "execution_count": 224,
   "metadata": {
    "collapsed": false
   },
   "outputs": [
    {
     "data": {
      "text/plain": [
       "(0.6109, 0.60583303805951183)"
      ]
     },
     "execution_count": 224,
     "metadata": {},
     "output_type": "execute_result"
    }
   ],
   "source": [
    "lr = LR()\n",
    "lr.fit(tr_df[feat25],tr_df[label])\n",
    "y = lr.predict(ts_df[feat25])\n",
    "acc = 1.0*(yy==y).sum()/len(y)\n",
    "acc,roc_auc_score(yy,y)"
   ]
  },
  {
   "cell_type": "code",
   "execution_count": 225,
   "metadata": {
    "collapsed": false
   },
   "outputs": [
    {
     "data": {
      "text/plain": [
       "(0.63519999999999999, 0.62920668910747712)"
      ]
     },
     "execution_count": 225,
     "metadata": {},
     "output_type": "execute_result"
    }
   ],
   "source": [
    "lr = LR()\n",
    "lr.fit(tr_df[featcor],tr_df[label])\n",
    "y = lr.predict(ts_df[featcor])\n",
    "acc = 1.0*(yy==y).sum()/len(y)\n",
    "acc,roc_auc_score(yy,y)"
   ]
  },
  {
   "cell_type": "code",
   "execution_count": 227,
   "metadata": {
    "collapsed": true
   },
   "outputs": [],
   "source": [
    "from sklearn.linear_model import LinearRegression as LNR"
   ]
  },
  {
   "cell_type": "code",
   "execution_count": 233,
   "metadata": {
    "collapsed": false
   },
   "outputs": [
    {
     "data": {
      "text/plain": [
       "(0.62629999999999997, 0.61603167951107785)"
      ]
     },
     "execution_count": 233,
     "metadata": {},
     "output_type": "execute_result"
    }
   ],
   "source": [
    "lr = LNR()\n",
    "lr.fit(tr_df[feat7],tr_df[label])\n",
    "y = lr.predict(ts_df[feat7]).round()\n",
    "acc = 1.0*(yy==y).sum()/len(y)\n",
    "acc,roc_auc_score(yy,y)"
   ]
  },
  {
   "cell_type": "code",
   "execution_count": 234,
   "metadata": {
    "collapsed": false
   },
   "outputs": [
    {
     "data": {
      "text/plain": [
       "(0.64180000000000004, 0.63585911603362522)"
      ]
     },
     "execution_count": 234,
     "metadata": {},
     "output_type": "execute_result"
    }
   ],
   "source": [
    "lr = LNR()\n",
    "lr.fit(tr_df[feat],tr_df[label])\n",
    "y = lr.predict(ts_df[feat]).round()\n",
    "acc = 1.0*(yy==y).sum()/len(y)\n",
    "acc,roc_auc_score(yy,y)"
   ]
  },
  {
   "cell_type": "code",
   "execution_count": 235,
   "metadata": {
    "collapsed": false
   },
   "outputs": [
    {
     "data": {
      "text/plain": [
       "(0.6109, 0.6057191811158269)"
      ]
     },
     "execution_count": 235,
     "metadata": {},
     "output_type": "execute_result"
    }
   ],
   "source": [
    "lr = LNR()\n",
    "lr.fit(tr_df[feat25],tr_df[label])\n",
    "y = lr.predict(ts_df[feat25]).round()\n",
    "acc = 1.0*(yy==y).sum()/len(y)\n",
    "acc,roc_auc_score(yy,y)"
   ]
  },
  {
   "cell_type": "code",
   "execution_count": 236,
   "metadata": {
    "collapsed": false
   },
   "outputs": [
    {
     "data": {
      "text/plain": [
       "(0.63600000000000001, 0.62930297404928248)"
      ]
     },
     "execution_count": 236,
     "metadata": {},
     "output_type": "execute_result"
    }
   ],
   "source": [
    "lr = LNR()\n",
    "lr.fit(tr_df[featcor],tr_df[label])\n",
    "y = lr.predict(ts_df[featcor]).round()\n",
    "acc = 1.0*(yy==y).sum()/len(y)\n",
    "acc,roc_auc_score(yy,y)"
   ]
  },
  {
   "cell_type": "code",
   "execution_count": 241,
   "metadata": {
    "collapsed": false
   },
   "outputs": [
    {
     "data": {
      "text/plain": [
       "(0.64480000000000004, 0.63948992089229173)"
      ]
     },
     "execution_count": 241,
     "metadata": {},
     "output_type": "execute_result"
    }
   ],
   "source": [
    "pca = PCA()\n",
    "X = pca.fit_transform(tr_df[feat])\n",
    "Xt = pca.transform(ts_df[feat])\n",
    "lr = LR()\n",
    "lr.fit(X,tr_df[label])\n",
    "y = lr.predict(Xt).round()\n",
    "acc = 1.0*(yy==y).sum()/len(y)\n",
    "acc,roc_auc_score(yy,y)"
   ]
  },
  {
   "cell_type": "code",
   "execution_count": 242,
   "metadata": {
    "collapsed": false
   },
   "outputs": [
    {
     "data": {
      "text/plain": [
       "(0.64180000000000004, 0.63585911603362522)"
      ]
     },
     "execution_count": 242,
     "metadata": {},
     "output_type": "execute_result"
    }
   ],
   "source": [
    "pca = PCA()\n",
    "X = pca.fit_transform(tr_df[feat])\n",
    "Xt = pca.transform(ts_df[feat])\n",
    "lr = LNR()\n",
    "lr.fit(X,tr_df[label])\n",
    "y = lr.predict(Xt).round()\n",
    "acc = 1.0*(yy==y).sum()/len(y)\n",
    "acc,roc_auc_score(yy,y)"
   ]
  },
  {
   "cell_type": "code",
   "execution_count": 243,
   "metadata": {
    "collapsed": false
   },
   "outputs": [
    {
     "data": {
      "text/plain": [
       "(0.68559999999999999, 0.6809457235364047)"
      ]
     },
     "execution_count": 243,
     "metadata": {},
     "output_type": "execute_result"
    }
   ],
   "source": [
    "gbc = GBC()\n",
    "gbc.fit(X,tr_df[label])\n",
    "y = gbc.predict(Xt)\n",
    "acc = 1.0*(yy==y).sum()/len(y)\n",
    "acc,roc_auc_score(yy,y)"
   ]
  }
 ],
 "metadata": {
  "kernelspec": {
   "display_name": "Python [conda root]",
   "language": "python",
   "name": "conda-root-py"
  },
  "language_info": {
   "codemirror_mode": {
    "name": "ipython",
    "version": 2
   },
   "file_extension": ".py",
   "mimetype": "text/x-python",
   "name": "python",
   "nbconvert_exporter": "python",
   "pygments_lexer": "ipython2",
   "version": "2.7.13"
  }
 },
 "nbformat": 4,
 "nbformat_minor": 2
}
